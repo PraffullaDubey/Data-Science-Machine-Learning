{
 "cells": [
  {
   "cell_type": "markdown",
   "metadata": {},
   "source": [
    "<a id='top'> </a> <br>\n",
    "## Content\n",
    "1. [Load packages](#1)\n",
    "2. [Overview of DataSets](#2)\n",
    "3. [Data Cleaning](#3)\n",
    "4. [Data Prepratation](#4)\n",
    "5. [Data Visualization](#5)\n",
    "6. [Training the model](#6)\n",
    "7. [Prediction](#7)\n",
    "\n",
    "       "
   ]
  },
  {
   "cell_type": "markdown",
   "metadata": {},
   "source": [
    "<a id=1></p><br>\n",
    "# Load packages"
   ]
  },
  {
   "cell_type": "code",
   "execution_count": 1,
   "metadata": {},
   "outputs": [],
   "source": [
    "import pandas as pd\n",
    "import numpy as np\n",
    "from scipy.sparse import hstack, csr_matrix\n",
    "from textblob import TextBlob\n",
    "import nltk\n",
    "import re\n",
    "import datetime\n",
    "import matplotlib.pyplot as plt\n",
    "from nltk.corpus import stopwords \n",
    "from nltk.tokenize import word_tokenize\n",
    "from nltk.stem import WordNetLemmatizer, PorterStemmer\n",
    "from sklearn.feature_extraction.text import CountVectorizer, TfidfVectorizer\n",
    "from sklearn.preprocessing import LabelEncoder, StandardScaler\n",
    "from sklearn.model_selection import train_test_split\n",
    "from sklearn.decomposition import TruncatedSVD\n",
    "from sklearn.svm import LinearSVR\n",
    "import lightgbm as lgb\n",
    "from sklearn.ensemble import RandomForestRegressor\n",
    "from sklearn.metrics import mean_absolute_error\n",
    "import matplotlib.pyplot as plt\n",
    "import seaborn as sns\n",
    "import matplotlib as mpl\n",
    "%matplotlib inline"
   ]
  },
  {
   "cell_type": "markdown",
   "metadata": {},
   "source": [
    "<a id=2></p><br>\n",
    "# Overview of Dataset"
   ]
  },
  {
   "cell_type": "code",
   "execution_count": 2,
   "metadata": {},
   "outputs": [],
   "source": [
    "df1=pd.read_csv('train_file.csv')\n",
    "df2=pd.read_csv('test_file.csv')\n",
    "t_id=df2['IDLink']\n",
    "#reading the train and test dataset and storing the IDlink in t_id"
   ]
  },
  {
   "cell_type": "markdown",
   "metadata": {},
   "source": [
    "## Exploring the data"
   ]
  },
  {
   "cell_type": "code",
   "execution_count": 3,
   "metadata": {},
   "outputs": [
    {
     "data": {
      "text/html": [
       "<div>\n",
       "<style scoped>\n",
       "    .dataframe tbody tr th:only-of-type {\n",
       "        vertical-align: middle;\n",
       "    }\n",
       "\n",
       "    .dataframe tbody tr th {\n",
       "        vertical-align: top;\n",
       "    }\n",
       "\n",
       "    .dataframe thead th {\n",
       "        text-align: right;\n",
       "    }\n",
       "</style>\n",
       "<table border=\"1\" class=\"dataframe\">\n",
       "  <thead>\n",
       "    <tr style=\"text-align: right;\">\n",
       "      <th></th>\n",
       "      <th>IDLink</th>\n",
       "      <th>Title</th>\n",
       "      <th>Headline</th>\n",
       "      <th>Source</th>\n",
       "      <th>Topic</th>\n",
       "      <th>PublishDate</th>\n",
       "      <th>Facebook</th>\n",
       "      <th>GooglePlus</th>\n",
       "      <th>LinkedIn</th>\n",
       "      <th>SentimentTitle</th>\n",
       "      <th>SentimentHeadline</th>\n",
       "    </tr>\n",
       "  </thead>\n",
       "  <tbody>\n",
       "    <tr>\n",
       "      <th>0</th>\n",
       "      <td>Tr3CMgRv1N</td>\n",
       "      <td>Obama Lays Wreath at Arlington National Cemetery</td>\n",
       "      <td>Obama Lays Wreath at Arlington National Cemete...</td>\n",
       "      <td>USA TODAY</td>\n",
       "      <td>obama</td>\n",
       "      <td>2002-04-02 00:00:00</td>\n",
       "      <td>-1</td>\n",
       "      <td>-1</td>\n",
       "      <td>-1</td>\n",
       "      <td>0.000000</td>\n",
       "      <td>-0.053300</td>\n",
       "    </tr>\n",
       "    <tr>\n",
       "      <th>1</th>\n",
       "      <td>Wc81vGp8qZ</td>\n",
       "      <td>A Look at the Health of the Chinese Economy</td>\n",
       "      <td>Tim Haywood, investment director business-unit...</td>\n",
       "      <td>Bloomberg</td>\n",
       "      <td>economy</td>\n",
       "      <td>2008-09-20 00:00:00</td>\n",
       "      <td>-1</td>\n",
       "      <td>-1</td>\n",
       "      <td>-1</td>\n",
       "      <td>0.208333</td>\n",
       "      <td>-0.156386</td>\n",
       "    </tr>\n",
       "    <tr>\n",
       "      <th>2</th>\n",
       "      <td>zNGH03CrZH</td>\n",
       "      <td>Nouriel Roubini: Global Economy Not Back to 2008</td>\n",
       "      <td>Nouriel Roubini, NYU professor and chairman at...</td>\n",
       "      <td>Bloomberg</td>\n",
       "      <td>economy</td>\n",
       "      <td>2012-01-28 00:00:00</td>\n",
       "      <td>-1</td>\n",
       "      <td>-1</td>\n",
       "      <td>-1</td>\n",
       "      <td>-0.425210</td>\n",
       "      <td>0.139754</td>\n",
       "    </tr>\n",
       "    <tr>\n",
       "      <th>3</th>\n",
       "      <td>3sM1H0W8ts</td>\n",
       "      <td>Finland GDP Expands In Q4</td>\n",
       "      <td>Finland's economy expanded marginally in the t...</td>\n",
       "      <td>RTT News</td>\n",
       "      <td>economy</td>\n",
       "      <td>2015-03-01 00:06:00</td>\n",
       "      <td>-1</td>\n",
       "      <td>-1</td>\n",
       "      <td>-1</td>\n",
       "      <td>0.000000</td>\n",
       "      <td>0.026064</td>\n",
       "    </tr>\n",
       "    <tr>\n",
       "      <th>4</th>\n",
       "      <td>wUbnxgvqaZ</td>\n",
       "      <td>Tourism, govt spending buoys Thai economy in J...</td>\n",
       "      <td>Tourism and public spending continued to boost...</td>\n",
       "      <td>The Nation - Thailand&amp;#39;s English news</td>\n",
       "      <td>economy</td>\n",
       "      <td>2015-03-01 00:11:00</td>\n",
       "      <td>-1</td>\n",
       "      <td>-1</td>\n",
       "      <td>-1</td>\n",
       "      <td>0.000000</td>\n",
       "      <td>0.141084</td>\n",
       "    </tr>\n",
       "  </tbody>\n",
       "</table>\n",
       "</div>"
      ],
      "text/plain": [
       "       IDLink                                              Title  \\\n",
       "0  Tr3CMgRv1N   Obama Lays Wreath at Arlington National Cemetery   \n",
       "1  Wc81vGp8qZ        A Look at the Health of the Chinese Economy   \n",
       "2  zNGH03CrZH   Nouriel Roubini: Global Economy Not Back to 2008   \n",
       "3  3sM1H0W8ts                          Finland GDP Expands In Q4   \n",
       "4  wUbnxgvqaZ  Tourism, govt spending buoys Thai economy in J...   \n",
       "\n",
       "                                            Headline  \\\n",
       "0  Obama Lays Wreath at Arlington National Cemete...   \n",
       "1  Tim Haywood, investment director business-unit...   \n",
       "2  Nouriel Roubini, NYU professor and chairman at...   \n",
       "3  Finland's economy expanded marginally in the t...   \n",
       "4  Tourism and public spending continued to boost...   \n",
       "\n",
       "                                     Source    Topic          PublishDate  \\\n",
       "0                                 USA TODAY    obama  2002-04-02 00:00:00   \n",
       "1                                 Bloomberg  economy  2008-09-20 00:00:00   \n",
       "2                                 Bloomberg  economy  2012-01-28 00:00:00   \n",
       "3                                  RTT News  economy  2015-03-01 00:06:00   \n",
       "4  The Nation - Thailand&#39;s English news  economy  2015-03-01 00:11:00   \n",
       "\n",
       "   Facebook  GooglePlus  LinkedIn  SentimentTitle  SentimentHeadline  \n",
       "0        -1          -1        -1        0.000000          -0.053300  \n",
       "1        -1          -1        -1        0.208333          -0.156386  \n",
       "2        -1          -1        -1       -0.425210           0.139754  \n",
       "3        -1          -1        -1        0.000000           0.026064  \n",
       "4        -1          -1        -1        0.000000           0.141084  "
      ]
     },
     "execution_count": 3,
     "metadata": {},
     "output_type": "execute_result"
    }
   ],
   "source": [
    "df1.head()"
   ]
  },
  {
   "cell_type": "code",
   "execution_count": 4,
   "metadata": {},
   "outputs": [
    {
     "data": {
      "text/html": [
       "<div>\n",
       "<style scoped>\n",
       "    .dataframe tbody tr th:only-of-type {\n",
       "        vertical-align: middle;\n",
       "    }\n",
       "\n",
       "    .dataframe tbody tr th {\n",
       "        vertical-align: top;\n",
       "    }\n",
       "\n",
       "    .dataframe thead th {\n",
       "        text-align: right;\n",
       "    }\n",
       "</style>\n",
       "<table border=\"1\" class=\"dataframe\">\n",
       "  <thead>\n",
       "    <tr style=\"text-align: right;\">\n",
       "      <th></th>\n",
       "      <th>IDLink</th>\n",
       "      <th>Title</th>\n",
       "      <th>Headline</th>\n",
       "      <th>Source</th>\n",
       "      <th>Topic</th>\n",
       "      <th>PublishDate</th>\n",
       "      <th>Facebook</th>\n",
       "      <th>GooglePlus</th>\n",
       "      <th>LinkedIn</th>\n",
       "      <th>SentimentTitle</th>\n",
       "      <th>SentimentHeadline</th>\n",
       "    </tr>\n",
       "  </thead>\n",
       "  <tbody>\n",
       "    <tr>\n",
       "      <th>55927</th>\n",
       "      <td>jQ3CeLRCb9</td>\n",
       "      <td>Fidel Castro Lashes Out at Obama After Cuba Visit</td>\n",
       "      <td>Retired Cuban leader Fidel Castro slammed Pres...</td>\n",
       "      <td>Wall Street Journal</td>\n",
       "      <td>obama</td>\n",
       "      <td>2016-03-29 01:35:06</td>\n",
       "      <td>794</td>\n",
       "      <td>10</td>\n",
       "      <td>5</td>\n",
       "      <td>-0.135417</td>\n",
       "      <td>-0.055902</td>\n",
       "    </tr>\n",
       "    <tr>\n",
       "      <th>55928</th>\n",
       "      <td>akNYeJ8opY</td>\n",
       "      <td>JOHN CRISP | Obama's strategic reaction to Bru...</td>\n",
       "      <td>President Obama caught some predictable flak f...</td>\n",
       "      <td>Kitsap Sun</td>\n",
       "      <td>obama</td>\n",
       "      <td>2016-03-29 01:35:08</td>\n",
       "      <td>0</td>\n",
       "      <td>0</td>\n",
       "      <td>0</td>\n",
       "      <td>0.236228</td>\n",
       "      <td>0.056110</td>\n",
       "    </tr>\n",
       "    <tr>\n",
       "      <th>55929</th>\n",
       "      <td>n2DGs0c8IG</td>\n",
       "      <td>Think Trump's 45 Percent Tariffs Are Bad? Try ...</td>\n",
       "      <td>While Trump wants to put large tariffs on impo...</td>\n",
       "      <td>Huffington Post</td>\n",
       "      <td>obama</td>\n",
       "      <td>2016-03-29 01:35:09</td>\n",
       "      <td>102</td>\n",
       "      <td>4</td>\n",
       "      <td>0</td>\n",
       "      <td>0.025747</td>\n",
       "      <td>0.114820</td>\n",
       "    </tr>\n",
       "    <tr>\n",
       "      <th>55930</th>\n",
       "      <td>P0EBiaSEjq</td>\n",
       "      <td>Microsoft finally releases giant Surface</td>\n",
       "      <td>Microsoft’s business customers are finally beg...</td>\n",
       "      <td>TechEye</td>\n",
       "      <td>microsoft</td>\n",
       "      <td>2016-03-29 01:38:00</td>\n",
       "      <td>0</td>\n",
       "      <td>0</td>\n",
       "      <td>0</td>\n",
       "      <td>0.000000</td>\n",
       "      <td>-0.028296</td>\n",
       "    </tr>\n",
       "    <tr>\n",
       "      <th>55931</th>\n",
       "      <td>99MLvyAQTJ</td>\n",
       "      <td>Rays of sunshine in the US economy</td>\n",
       "      <td>AS WE all know from listening to the campaign ...</td>\n",
       "      <td>Washington Post</td>\n",
       "      <td>economy</td>\n",
       "      <td>2016-03-29 01:41:08</td>\n",
       "      <td>75</td>\n",
       "      <td>7</td>\n",
       "      <td>19</td>\n",
       "      <td>0.000000</td>\n",
       "      <td>0.184444</td>\n",
       "    </tr>\n",
       "  </tbody>\n",
       "</table>\n",
       "</div>"
      ],
      "text/plain": [
       "           IDLink                                              Title  \\\n",
       "55927  jQ3CeLRCb9  Fidel Castro Lashes Out at Obama After Cuba Visit   \n",
       "55928  akNYeJ8opY  JOHN CRISP | Obama's strategic reaction to Bru...   \n",
       "55929  n2DGs0c8IG  Think Trump's 45 Percent Tariffs Are Bad? Try ...   \n",
       "55930  P0EBiaSEjq           Microsoft finally releases giant Surface   \n",
       "55931  99MLvyAQTJ                 Rays of sunshine in the US economy   \n",
       "\n",
       "                                                Headline               Source  \\\n",
       "55927  Retired Cuban leader Fidel Castro slammed Pres...  Wall Street Journal   \n",
       "55928  President Obama caught some predictable flak f...           Kitsap Sun   \n",
       "55929  While Trump wants to put large tariffs on impo...      Huffington Post   \n",
       "55930  Microsoft’s business customers are finally beg...              TechEye   \n",
       "55931  AS WE all know from listening to the campaign ...      Washington Post   \n",
       "\n",
       "           Topic          PublishDate  Facebook  GooglePlus  LinkedIn  \\\n",
       "55927      obama  2016-03-29 01:35:06       794          10         5   \n",
       "55928      obama  2016-03-29 01:35:08         0           0         0   \n",
       "55929      obama  2016-03-29 01:35:09       102           4         0   \n",
       "55930  microsoft  2016-03-29 01:38:00         0           0         0   \n",
       "55931    economy  2016-03-29 01:41:08        75           7        19   \n",
       "\n",
       "       SentimentTitle  SentimentHeadline  \n",
       "55927       -0.135417          -0.055902  \n",
       "55928        0.236228           0.056110  \n",
       "55929        0.025747           0.114820  \n",
       "55930        0.000000          -0.028296  \n",
       "55931        0.000000           0.184444  "
      ]
     },
     "execution_count": 4,
     "metadata": {},
     "output_type": "execute_result"
    }
   ],
   "source": [
    "df1.tail()"
   ]
  },
  {
   "cell_type": "code",
   "execution_count": 5,
   "metadata": {},
   "outputs": [
    {
     "data": {
      "text/html": [
       "<div>\n",
       "<style scoped>\n",
       "    .dataframe tbody tr th:only-of-type {\n",
       "        vertical-align: middle;\n",
       "    }\n",
       "\n",
       "    .dataframe tbody tr th {\n",
       "        vertical-align: top;\n",
       "    }\n",
       "\n",
       "    .dataframe thead th {\n",
       "        text-align: right;\n",
       "    }\n",
       "</style>\n",
       "<table border=\"1\" class=\"dataframe\">\n",
       "  <thead>\n",
       "    <tr style=\"text-align: right;\">\n",
       "      <th></th>\n",
       "      <th>IDLink</th>\n",
       "      <th>Title</th>\n",
       "      <th>Headline</th>\n",
       "      <th>Source</th>\n",
       "      <th>Topic</th>\n",
       "      <th>PublishDate</th>\n",
       "      <th>Facebook</th>\n",
       "      <th>GooglePlus</th>\n",
       "      <th>LinkedIn</th>\n",
       "    </tr>\n",
       "  </thead>\n",
       "  <tbody>\n",
       "    <tr>\n",
       "      <th>0</th>\n",
       "      <td>tFrqIR6Chj</td>\n",
       "      <td>Sliding Economy: FG fights back with N3trn TSA...</td>\n",
       "      <td>With the 2016 budget now passed by the Nationa...</td>\n",
       "      <td>BusinessDay</td>\n",
       "      <td>economy</td>\n",
       "      <td>2016-03-29 01:41:12</td>\n",
       "      <td>0</td>\n",
       "      <td>0</td>\n",
       "      <td>1</td>\n",
       "    </tr>\n",
       "    <tr>\n",
       "      <th>1</th>\n",
       "      <td>DVAaGErjlF</td>\n",
       "      <td>Microsoft shows how HoloLens can bring distant...</td>\n",
       "      <td>A recent Microsoft Research video shows how th...</td>\n",
       "      <td>Daily Mail</td>\n",
       "      <td>microsoft</td>\n",
       "      <td>2016-03-29 01:41:27</td>\n",
       "      <td>121</td>\n",
       "      <td>2</td>\n",
       "      <td>13</td>\n",
       "    </tr>\n",
       "    <tr>\n",
       "      <th>2</th>\n",
       "      <td>OT9UIZm5M2</td>\n",
       "      <td>Microsoft’s Twitter Robot Praises Hitler, Trum...</td>\n",
       "      <td>* Microsoft teamed with Bing to create TayTwee...</td>\n",
       "      <td>EURweb</td>\n",
       "      <td>microsoft</td>\n",
       "      <td>2016-03-29 01:47:00</td>\n",
       "      <td>12</td>\n",
       "      <td>1</td>\n",
       "      <td>0</td>\n",
       "    </tr>\n",
       "    <tr>\n",
       "      <th>3</th>\n",
       "      <td>lflGp3q2Fj</td>\n",
       "      <td>Flood of Central Bank Moves Can't Get World Ec...</td>\n",
       "      <td>Central bankers have managed to steer the worl...</td>\n",
       "      <td>Bloomberg via Yahoo! Finance</td>\n",
       "      <td>economy</td>\n",
       "      <td>2016-03-29 02:00:00</td>\n",
       "      <td>0</td>\n",
       "      <td>0</td>\n",
       "      <td>3</td>\n",
       "    </tr>\n",
       "    <tr>\n",
       "      <th>4</th>\n",
       "      <td>zDYG0SoovZ</td>\n",
       "      <td>USD/JPY: bears lining up on mixed U.S. economy...</td>\n",
       "      <td>However, this streak of seven-day gains might ...</td>\n",
       "      <td>FXStreet</td>\n",
       "      <td>economy</td>\n",
       "      <td>2016-03-29 02:01:07</td>\n",
       "      <td>3</td>\n",
       "      <td>0</td>\n",
       "      <td>0</td>\n",
       "    </tr>\n",
       "  </tbody>\n",
       "</table>\n",
       "</div>"
      ],
      "text/plain": [
       "       IDLink                                              Title  \\\n",
       "0  tFrqIR6Chj  Sliding Economy: FG fights back with N3trn TSA...   \n",
       "1  DVAaGErjlF  Microsoft shows how HoloLens can bring distant...   \n",
       "2  OT9UIZm5M2  Microsoft’s Twitter Robot Praises Hitler, Trum...   \n",
       "3  lflGp3q2Fj  Flood of Central Bank Moves Can't Get World Ec...   \n",
       "4  zDYG0SoovZ  USD/JPY: bears lining up on mixed U.S. economy...   \n",
       "\n",
       "                                            Headline  \\\n",
       "0  With the 2016 budget now passed by the Nationa...   \n",
       "1  A recent Microsoft Research video shows how th...   \n",
       "2  * Microsoft teamed with Bing to create TayTwee...   \n",
       "3  Central bankers have managed to steer the worl...   \n",
       "4  However, this streak of seven-day gains might ...   \n",
       "\n",
       "                         Source      Topic          PublishDate  Facebook  \\\n",
       "0                   BusinessDay    economy  2016-03-29 01:41:12         0   \n",
       "1                    Daily Mail  microsoft  2016-03-29 01:41:27       121   \n",
       "2                        EURweb  microsoft  2016-03-29 01:47:00        12   \n",
       "3  Bloomberg via Yahoo! Finance    economy  2016-03-29 02:00:00         0   \n",
       "4                      FXStreet    economy  2016-03-29 02:01:07         3   \n",
       "\n",
       "   GooglePlus  LinkedIn  \n",
       "0           0         1  \n",
       "1           2        13  \n",
       "2           1         0  \n",
       "3           0         3  \n",
       "4           0         0  "
      ]
     },
     "execution_count": 5,
     "metadata": {},
     "output_type": "execute_result"
    }
   ],
   "source": [
    "df2.head()"
   ]
  },
  {
   "cell_type": "code",
   "execution_count": 6,
   "metadata": {},
   "outputs": [
    {
     "data": {
      "text/html": [
       "<div>\n",
       "<style scoped>\n",
       "    .dataframe tbody tr th:only-of-type {\n",
       "        vertical-align: middle;\n",
       "    }\n",
       "\n",
       "    .dataframe tbody tr th {\n",
       "        vertical-align: top;\n",
       "    }\n",
       "\n",
       "    .dataframe thead th {\n",
       "        text-align: right;\n",
       "    }\n",
       "</style>\n",
       "<table border=\"1\" class=\"dataframe\">\n",
       "  <thead>\n",
       "    <tr style=\"text-align: right;\">\n",
       "      <th></th>\n",
       "      <th>IDLink</th>\n",
       "      <th>Title</th>\n",
       "      <th>Headline</th>\n",
       "      <th>Source</th>\n",
       "      <th>Topic</th>\n",
       "      <th>PublishDate</th>\n",
       "      <th>Facebook</th>\n",
       "      <th>GooglePlus</th>\n",
       "      <th>LinkedIn</th>\n",
       "    </tr>\n",
       "  </thead>\n",
       "  <tbody>\n",
       "    <tr>\n",
       "      <th>37283</th>\n",
       "      <td>5bYaKaEyN3</td>\n",
       "      <td>Stocks rise as investors key in on US economy ...</td>\n",
       "      <td>The June employment report is viewed as a cruc...</td>\n",
       "      <td>MarketWatch</td>\n",
       "      <td>economy</td>\n",
       "      <td>2016-07-07 15:31:05</td>\n",
       "      <td>-1</td>\n",
       "      <td>3</td>\n",
       "      <td>5</td>\n",
       "    </tr>\n",
       "    <tr>\n",
       "      <th>37284</th>\n",
       "      <td>jmnC32Uh5u</td>\n",
       "      <td>Russian PM proposes to use conservative and to...</td>\n",
       "      <td>In addition, establish stimulating economic po...</td>\n",
       "      <td>TASS</td>\n",
       "      <td>economy</td>\n",
       "      <td>2016-07-07 15:31:10</td>\n",
       "      <td>-1</td>\n",
       "      <td>0</td>\n",
       "      <td>1</td>\n",
       "    </tr>\n",
       "    <tr>\n",
       "      <th>37285</th>\n",
       "      <td>yPhgBwobV0</td>\n",
       "      <td>Palestinian Government Uses Foreign Aid To Pay...</td>\n",
       "      <td>The Palestinian government spends nearly $140 ...</td>\n",
       "      <td>Daily Caller</td>\n",
       "      <td>palestine</td>\n",
       "      <td>2016-07-07 15:38:26</td>\n",
       "      <td>5</td>\n",
       "      <td>1</td>\n",
       "      <td>0</td>\n",
       "    </tr>\n",
       "    <tr>\n",
       "      <th>37286</th>\n",
       "      <td>adFcODOaiQ</td>\n",
       "      <td>Palestine Youth Orchestra prepares for first U...</td>\n",
       "      <td>Palestine Youth Orchestra prepares for first U...</td>\n",
       "      <td>Ahram Online</td>\n",
       "      <td>palestine</td>\n",
       "      <td>2016-07-07 15:59:22</td>\n",
       "      <td>0</td>\n",
       "      <td>0</td>\n",
       "      <td>0</td>\n",
       "    </tr>\n",
       "    <tr>\n",
       "      <th>37287</th>\n",
       "      <td>y3DArgHOmr</td>\n",
       "      <td>Sausalito businesswoman wins $10000 in Microso...</td>\n",
       "      <td>Goldstein, the proprietor of the TG Travel Gro...</td>\n",
       "      <td>East Bay Times</td>\n",
       "      <td>microsoft</td>\n",
       "      <td>2016-07-07 16:16:11</td>\n",
       "      <td>-1</td>\n",
       "      <td>1</td>\n",
       "      <td>0</td>\n",
       "    </tr>\n",
       "  </tbody>\n",
       "</table>\n",
       "</div>"
      ],
      "text/plain": [
       "           IDLink                                              Title  \\\n",
       "37283  5bYaKaEyN3  Stocks rise as investors key in on US economy ...   \n",
       "37284  jmnC32Uh5u  Russian PM proposes to use conservative and to...   \n",
       "37285  yPhgBwobV0  Palestinian Government Uses Foreign Aid To Pay...   \n",
       "37286  adFcODOaiQ  Palestine Youth Orchestra prepares for first U...   \n",
       "37287  y3DArgHOmr  Sausalito businesswoman wins $10000 in Microso...   \n",
       "\n",
       "                                                Headline          Source  \\\n",
       "37283  The June employment report is viewed as a cruc...     MarketWatch   \n",
       "37284  In addition, establish stimulating economic po...            TASS   \n",
       "37285  The Palestinian government spends nearly $140 ...    Daily Caller   \n",
       "37286  Palestine Youth Orchestra prepares for first U...    Ahram Online   \n",
       "37287  Goldstein, the proprietor of the TG Travel Gro...  East Bay Times   \n",
       "\n",
       "           Topic          PublishDate  Facebook  GooglePlus  LinkedIn  \n",
       "37283    economy  2016-07-07 15:31:05        -1           3         5  \n",
       "37284    economy  2016-07-07 15:31:10        -1           0         1  \n",
       "37285  palestine  2016-07-07 15:38:26         5           1         0  \n",
       "37286  palestine  2016-07-07 15:59:22         0           0         0  \n",
       "37287  microsoft  2016-07-07 16:16:11        -1           1         0  "
      ]
     },
     "execution_count": 6,
     "metadata": {},
     "output_type": "execute_result"
    }
   ],
   "source": [
    "df2.tail()"
   ]
  },
  {
   "cell_type": "code",
   "execution_count": 7,
   "metadata": {},
   "outputs": [
    {
     "data": {
      "text/plain": [
       "(55932, 11)"
      ]
     },
     "execution_count": 7,
     "metadata": {},
     "output_type": "execute_result"
    }
   ],
   "source": [
    "df1.shape"
   ]
  },
  {
   "cell_type": "code",
   "execution_count": 8,
   "metadata": {},
   "outputs": [
    {
     "data": {
      "text/plain": [
       "(37288, 9)"
      ]
     },
     "execution_count": 8,
     "metadata": {},
     "output_type": "execute_result"
    }
   ],
   "source": [
    "df2.shape"
   ]
  },
  {
   "cell_type": "code",
   "execution_count": 9,
   "metadata": {},
   "outputs": [],
   "source": [
    "#from df1.shape and df2.shape we get to know that there are total\n",
    "#55932 rows and 11 columns in df1 and 55932 rows and 9 columns in df2"
   ]
  },
  {
   "cell_type": "code",
   "execution_count": 10,
   "metadata": {},
   "outputs": [
    {
     "name": "stdout",
     "output_type": "stream",
     "text": [
      "<class 'pandas.core.frame.DataFrame'>\n",
      "RangeIndex: 55932 entries, 0 to 55931\n",
      "Data columns (total 11 columns):\n",
      "IDLink               55932 non-null object\n",
      "Title                55932 non-null object\n",
      "Headline             55932 non-null object\n",
      "Source               55757 non-null object\n",
      "Topic                55932 non-null object\n",
      "PublishDate          55932 non-null object\n",
      "Facebook             55932 non-null int64\n",
      "GooglePlus           55932 non-null int64\n",
      "LinkedIn             55932 non-null int64\n",
      "SentimentTitle       55932 non-null float64\n",
      "SentimentHeadline    55932 non-null float64\n",
      "dtypes: float64(2), int64(3), object(6)\n",
      "memory usage: 4.7+ MB\n"
     ]
    }
   ],
   "source": [
    "df1.info()"
   ]
  },
  {
   "cell_type": "code",
   "execution_count": 11,
   "metadata": {},
   "outputs": [
    {
     "name": "stdout",
     "output_type": "stream",
     "text": [
      "<class 'pandas.core.frame.DataFrame'>\n",
      "RangeIndex: 37288 entries, 0 to 37287\n",
      "Data columns (total 9 columns):\n",
      "IDLink         37288 non-null object\n",
      "Title          37288 non-null object\n",
      "Headline       37288 non-null object\n",
      "Source         37187 non-null object\n",
      "Topic          37288 non-null object\n",
      "PublishDate    37288 non-null object\n",
      "Facebook       37288 non-null int64\n",
      "GooglePlus     37288 non-null int64\n",
      "LinkedIn       37288 non-null int64\n",
      "dtypes: int64(3), object(6)\n",
      "memory usage: 2.6+ MB\n"
     ]
    }
   ],
   "source": [
    "df2.info()"
   ]
  },
  {
   "cell_type": "code",
   "execution_count": 12,
   "metadata": {},
   "outputs": [],
   "source": [
    "#df1.info() gives information about the datasets"
   ]
  },
  {
   "cell_type": "markdown",
   "metadata": {},
   "source": [
    "## Find missing values"
   ]
  },
  {
   "cell_type": "code",
   "execution_count": 13,
   "metadata": {},
   "outputs": [
    {
     "data": {
      "text/plain": [
       "IDLink                 0\n",
       "Title                  0\n",
       "Headline               0\n",
       "Source               175\n",
       "Topic                  0\n",
       "PublishDate            0\n",
       "Facebook               0\n",
       "GooglePlus             0\n",
       "LinkedIn               0\n",
       "SentimentTitle         0\n",
       "SentimentHeadline      0\n",
       "dtype: int64"
      ]
     },
     "execution_count": 13,
     "metadata": {},
     "output_type": "execute_result"
    }
   ],
   "source": [
    "df1.isnull().sum()"
   ]
  },
  {
   "cell_type": "code",
   "execution_count": 14,
   "metadata": {},
   "outputs": [
    {
     "data": {
      "text/plain": [
       "IDLink           0\n",
       "Title            0\n",
       "Headline         0\n",
       "Source         101\n",
       "Topic            0\n",
       "PublishDate      0\n",
       "Facebook         0\n",
       "GooglePlus       0\n",
       "LinkedIn         0\n",
       "dtype: int64"
      ]
     },
     "execution_count": 14,
     "metadata": {},
     "output_type": "execute_result"
    }
   ],
   "source": [
    "df2.isnull().sum()"
   ]
  },
  {
   "cell_type": "code",
   "execution_count": 15,
   "metadata": {},
   "outputs": [],
   "source": [
    "#we get to know that df1 has 175 null values in 'Source' column.\n",
    "#we get to know that df2 has 101 null values in 'Source' column."
   ]
  },
  {
   "cell_type": "code",
   "execution_count": 16,
   "metadata": {},
   "outputs": [
    {
     "data": {
      "text/plain": [
       "Bloomberg                                          992\n",
       "Reuters                                            763\n",
       "ABC News                                           645\n",
       "New York Times                                     573\n",
       "The Guardian                                       551\n",
       "Business Insider                                   550\n",
       "Forbes                                             484\n",
       "Economic Times                                     461\n",
       "CNN                                                447\n",
       "WinBeta                                            445\n",
       "Washington Post                                    437\n",
       "Huffington Post                                    399\n",
       "Wall Street Journal                                392\n",
       "The Hill                                           354\n",
       "Breitbart News                                     353\n",
       "CNBC                                               351\n",
       "ZDNet                                              343\n",
       "USA TODAY                                          329\n",
       "AFP via Yahoo! News                                313\n",
       "Financial Times                                    312\n",
       "Reuters via Yahoo! Finance                         311\n",
       "International Business Times                       295\n",
       "NPR                                                286\n",
       "BBC News                                           278\n",
       "Fox News                                           275\n",
       "AFP via Yahoo! India News                          270\n",
       "Reuters UK                                         269\n",
       "WAFA - Palestine News Agency                       268\n",
       "Daily Mail                                         265\n",
       "Associated Press via Yahoo! News                   263\n",
       "                                                  ... \n",
       "Ausdroid                                             1\n",
       "Recorderpost.com (satire) (registration) (blog)      1\n",
       "Fox11online.com                                      1\n",
       "Sporting News via Yahoo UK & Ireland Sport           1\n",
       "Lancashire Evening Post                              1\n",
       "AndroidOrigin                                        1\n",
       "Grande Prairie Daily Herald-Tribune                  1\n",
       "TheSportsCampus.com                                  1\n",
       "Touch Arcade                                         1\n",
       "WVVA Bluefield                                       1\n",
       "Antigua Observer                                     1\n",
       "Valley Advocate                                      1\n",
       "Evenimentul Zilei                                    1\n",
       "KIRO 7 Seattle-Tacoma                                1\n",
       "Examiner Gazette                                     1\n",
       "Newsandtribune                                       1\n",
       "Nooga.com                                            1\n",
       "Workpermit.com                                       1\n",
       "ESPN Blogs                                           1\n",
       "WMCTV Memphis                                        1\n",
       "Wyoming Business Report                              1\n",
       "Eagle Radio                                          1\n",
       "Cross Rhythms                                        1\n",
       "Afrik.com                                            1\n",
       "Big Island Now                                       1\n",
       "Enough Project                                       1\n",
       "CarAdvice                                            1\n",
       "South Wales Argus                                    1\n",
       "Direct Marketing News                                1\n",
       "Inside Tucson Business                               1\n",
       "Name: Source, Length: 4753, dtype: int64"
      ]
     },
     "execution_count": 16,
     "metadata": {},
     "output_type": "execute_result"
    }
   ],
   "source": [
    "df1['Source'].value_counts()\n",
    "#finds the count of unique values in the dataset"
   ]
  },
  {
   "cell_type": "code",
   "execution_count": 17,
   "metadata": {},
   "outputs": [
    {
     "data": {
      "text/plain": [
       "Bloomberg                                           740\n",
       "Reuters                                             558\n",
       "ABC News                                            453\n",
       "New York Times                                      419\n",
       "MSPoweruser.com                                     416\n",
       "The Guardian                                        382\n",
       "Wall Street Journal                                 338\n",
       "Washington Post                                     337\n",
       "Business Insider                                    334\n",
       "CNBC                                                331\n",
       "Economic Times                                      326\n",
       "Forbes                                              297\n",
       "CNN                                                 295\n",
       "Huffington Post                                     277\n",
       "WinBeta                                             262\n",
       "Breitbart News                                      252\n",
       "Daily Mail                                          245\n",
       "Reuters via Yahoo! Finance                          240\n",
       "Financial Times                                     232\n",
       "Fox News                                            230\n",
       "BBC News                                            203\n",
       "USA TODAY                                           201\n",
       "Washington Times                                    200\n",
       "NPR                                                 195\n",
       "The Hill (blog)                                     194\n",
       "The Hill                                            194\n",
       "AFP via Yahoo! News                                 188\n",
       "Sputnik International                               186\n",
       "ZDNet                                               183\n",
       "Daily Caller                                        179\n",
       "                                                   ... \n",
       "The Weather Network                                   1\n",
       "WISC-TV Madison                                       1\n",
       "amNY                                                  1\n",
       "Good4Utah                                             1\n",
       "Feedstuffs                                            1\n",
       "KOAT Albuquerque                                      1\n",
       "KDLT News                                             1\n",
       "Virtualization Review                                 1\n",
       "The Wall Street Journal via Yahoo! Finance India      1\n",
       "Kiplinger Personal Finance                            1\n",
       "Pacific Business News (Honolulu)                      1\n",
       "New Hampshire Public Radio                            1\n",
       "The Daily Freeman                                     1\n",
       "The Bookseller (blog)                                 1\n",
       "Imperial College London                               1\n",
       "Canberra Times                                        1\n",
       "WZZM13.com                                            1\n",
       "Slugger O'Toole                                       1\n",
       "Daily Nexus                                           1\n",
       "Timmins Press                                         1\n",
       "Puget Sound Business Journal (Seattle) (blog)         1\n",
       "Elite Daily (blog)                                    1\n",
       "MuMbrella                                             1\n",
       "Intelligence & Terrorism Information Center           1\n",
       "Sault Star                                            1\n",
       "Fiji Times                                            1\n",
       "KIII TV3                                              1\n",
       "GameZone                                              1\n",
       "Central Washington University                         1\n",
       "Technabob (blog)                                      1\n",
       "Name: Source, Length: 3666, dtype: int64"
      ]
     },
     "execution_count": 17,
     "metadata": {},
     "output_type": "execute_result"
    }
   ],
   "source": [
    "df2['Source'].value_counts()"
   ]
  },
  {
   "cell_type": "code",
   "execution_count": 18,
   "metadata": {},
   "outputs": [],
   "source": [
    "df1['Source']=df1['Source'].fillna('Bloomberg')\n",
    "df2['Source']=df2['Source'].fillna('Bloomberg')\n",
    "#this will fill the missing values with the values of Bloomberg"
   ]
  },
  {
   "cell_type": "markdown",
   "metadata": {},
   "source": [
    "<a id=3></p><br>\n",
    "# Data Cleaning"
   ]
  },
  {
   "cell_type": "code",
   "execution_count": 19,
   "metadata": {},
   "outputs": [
    {
     "name": "stderr",
     "output_type": "stream",
     "text": [
      "[nltk_data] Downloading package stopwords to\n",
      "[nltk_data]     C:\\Users\\Praffulla\\AppData\\Roaming\\nltk_data...\n",
      "[nltk_data]   Package stopwords is already up-to-date!\n",
      "[nltk_data] Downloading package punkt to\n",
      "[nltk_data]     C:\\Users\\Praffulla\\AppData\\Roaming\\nltk_data...\n",
      "[nltk_data]   Package punkt is already up-to-date!\n",
      "[nltk_data] Downloading package wordnet to\n",
      "[nltk_data]     C:\\Users\\Praffulla\\AppData\\Roaming\\nltk_data...\n",
      "[nltk_data]   Package wordnet is already up-to-date!\n"
     ]
    }
   ],
   "source": [
    "nltk.download('stopwords') #download the stopwords\n",
    "nltk.download('punkt') #divide text into sentences\n",
    "nltk.download('wordnet') #lexical database to find meaning of word\n",
    "s=set(stopwords.words('english')) #store the stopwords\n",
    "def cleanset(text):\n",
    "  text_token=word_tokenize(text)\n",
    "  filtered_text=' '.join([w.lower() for w in text_token if w.lower() not in s and len(w) > 2])\n",
    "  filtered_text=filtered_text.replace(r\"[^a-zA-Z]+\", '')\n",
    "  text_only=re.sub(r'\\b\\d+\\b', '', filtered_text)\n",
    "  clean_text=text_only.replace(',', '').replace('.', '').replace(':', '')\n",
    "  return clean_text"
   ]
  },
  {
   "cell_type": "code",
   "execution_count": 20,
   "metadata": {},
   "outputs": [],
   "source": [
    "df1['Text_Title']=df1['Title']+' '+df1['Source']+' '+df1['Topic']\n",
    "df2['Text_Title']=df2['Title']+' '+df2['Source']+' '+df2['Topic']"
   ]
  },
  {
   "cell_type": "code",
   "execution_count": 21,
   "metadata": {},
   "outputs": [],
   "source": [
    "df1['Text_Headline']=df1['Headline']+' '+df1['Source']+' '+df1['Topic']\n",
    "df2['Text_Headline']=df2['Headline']+' '+df2['Source']+' '+df2['Topic']"
   ]
  },
  {
   "cell_type": "code",
   "execution_count": 22,
   "metadata": {},
   "outputs": [
    {
     "data": {
      "text/plain": [
       "'Obama Lays Wreath at Arlington National Cemetery. President Barack Obama has laid a wreath at the Tomb of the Unknowns to honor USA TODAY obama'"
      ]
     },
     "execution_count": 22,
     "metadata": {},
     "output_type": "execute_result"
    }
   ],
   "source": [
    "df1['Text_Title'][0]\n",
    "df1['Text_Headline'][0] #show the 1st value in the dataset"
   ]
  },
  {
   "cell_type": "markdown",
   "metadata": {},
   "source": [
    "### Cleaning the 'Text_Title'"
   ]
  },
  {
   "cell_type": "code",
   "execution_count": 23,
   "metadata": {},
   "outputs": [],
   "source": [
    "df1['Text_Title']=[cleanset(x) for x in df1['Text_Title']]\n",
    "df2['Text_Title']=[cleanset(x) for x in df2['Text_Title']]"
   ]
  },
  {
   "cell_type": "markdown",
   "metadata": {},
   "source": [
    "### Clean the 'Text_Headline'"
   ]
  },
  {
   "cell_type": "code",
   "execution_count": 24,
   "metadata": {},
   "outputs": [],
   "source": [
    "df1['Text_Headline']=[cleanset(x) for x in df1['Text_Headline']]\n",
    "df2['Text_Headline']=[cleanset(x) for x in df2['Text_Headline']]"
   ]
  },
  {
   "cell_type": "code",
   "execution_count": 25,
   "metadata": {},
   "outputs": [
    {
     "data": {
      "text/plain": [
       "'obama lays wreath arlington national cemetery president barack obama laid wreath tomb unknowns honor usa today obama'"
      ]
     },
     "execution_count": 25,
     "metadata": {},
     "output_type": "execute_result"
    }
   ],
   "source": [
    "df1['Text_Title'][0]\n",
    "df1['Text_Headline'][0] #cleaned data of the dataset"
   ]
  },
  {
   "cell_type": "markdown",
   "metadata": {},
   "source": [
    "<a id=4></p><br>\n",
    "# Data Prepration"
   ]
  },
  {
   "cell_type": "markdown",
   "metadata": {},
   "source": [
    "### Feature Extraction"
   ]
  },
  {
   "cell_type": "code",
   "execution_count": 26,
   "metadata": {},
   "outputs": [],
   "source": [
    "v=TfidfVectorizer(use_idf=True)\n",
    "df1_v_Title=v.fit_transform(df1['Text_Title'])\n",
    "df2_v_Title=v.transform(df2['Text_Title'])"
   ]
  },
  {
   "cell_type": "code",
   "execution_count": 27,
   "metadata": {},
   "outputs": [],
   "source": [
    "v=TfidfVectorizer()\n",
    "df1_v_Headline=v.fit_transform(df1['Text_Headline'])\n",
    "df2_v_Headline=v.transform(df2['Text_Headline'])"
   ]
  },
  {
   "cell_type": "code",
   "execution_count": 28,
   "metadata": {},
   "outputs": [],
   "source": [
    "svd=TruncatedSVD(n_components=20)\n",
    "df1_v_Title=svd.fit_transform(df1_v_Title)\n",
    "df2_v_Title=svd.transform(df2_v_Title)\n",
    "df1_v_Headline=svd.fit_transform(df1_v_Headline)\n",
    "df2_v_Headline=svd.transform(df2_v_Headline)"
   ]
  },
  {
   "cell_type": "code",
   "execution_count": 29,
   "metadata": {},
   "outputs": [],
   "source": [
    "df1['p_t']=df1['Title'].apply(lambda x: TextBlob(x).sentiment.polarity)\n",
    "df2['p_t']=df2['Title'].apply(lambda x: TextBlob(x).sentiment.polarity)\n",
    "df1['sub_t']=df1['Title'].apply(lambda x: TextBlob(x).sentiment.subjectivity)\n",
    "df2['sub_t']=df2['Title'].apply(lambda x: TextBlob(x).sentiment.subjectivity)\n",
    "# Calculating the sentiment and storing the values in p_t for polarity and sub_t to store the subjectivity value"
   ]
  },
  {
   "cell_type": "code",
   "execution_count": 30,
   "metadata": {},
   "outputs": [],
   "source": [
    "df1['p_h']=df1['Headline'].apply(lambda x: TextBlob(x).sentiment.polarity)\n",
    "df2['p_h']=df2['Headline'].apply(lambda x: TextBlob(x).sentiment.polarity)\n",
    "df1['sub_h']=df1['Headline'].apply(lambda x: TextBlob(x).sentiment.subjectivity)\n",
    "df2['sub_h']=df2['Headline'].apply(lambda x: TextBlob(x).sentiment.subjectivity)\n",
    "# Calculating the sentiment and storing the values in p_t for polarity and sub_t to store the subjectivity value"
   ]
  },
  {
   "cell_type": "markdown",
   "metadata": {},
   "source": [
    "### Handle Categorical Values"
   ]
  },
  {
   "cell_type": "code",
   "execution_count": 31,
   "metadata": {},
   "outputs": [],
   "source": [
    "e=LabelEncoder()\n",
    "df1['Topic']=e.fit_transform(df1['Topic'])\n",
    "df2['Topic']=e.transform(df2['Topic'])\n",
    "total=df1['Source'].to_list()+df2['Source'].to_list()\n",
    "total=e.fit_transform(total)\n",
    "df1['Source']=e.transform(df1['Source'])\n",
    "df2['Source']=e.transform(df2['Source'])"
   ]
  },
  {
   "cell_type": "code",
   "execution_count": 32,
   "metadata": {},
   "outputs": [],
   "source": [
    "df1_weekday=[]\n",
    "df2_weekday=[]\n",
    "\n",
    "for i in df1['PublishDate']:\n",
    "    df1_weekday.append(datetime.datetime.strptime(i, \"%Y-%m-%d %H:%M:%S\").strftime(\"%A\"))\n",
    "    \n",
    "for i in df2['PublishDate']:\n",
    "    df2_weekday.append(datetime.datetime.strptime(i, \"%Y-%m-%d %H:%M:%S\").strftime(\"%A\"))\n",
    "\n",
    "df1['weekday']=df1_weekday\n",
    "df2['weekday']=df2_weekday\n",
    "df1['weekday']=df1['weekday'].map({'Monday': 0,'Tuesday': 1,'Wednesday': 2,'Thursday': 3,'Friday': 4,'Saturday': 5,'Sunday': 6})\n",
    "df2['weekday']=df2['weekday'].map({'Monday': 0,'Tuesday': 1,'Wednesday': 2,'Thursday': 3,'Friday': 4,'Saturday': 5,'Sunday': 6})"
   ]
  },
  {
   "cell_type": "code",
   "execution_count": 33,
   "metadata": {},
   "outputs": [],
   "source": [
    "df1[\"hour\"]=df1[\"PublishDate\"].apply(lambda x: x.split()[1].split(':')[0])\n",
    "df2[\"hour\"]=df2[\"PublishDate\"].apply(lambda x: x.split()[1].split(':')[0])\n",
    "# Get hour from date"
   ]
  },
  {
   "cell_type": "markdown",
   "metadata": {},
   "source": [
    "<a id=5></p><br>\n",
    "# Data Visualization"
   ]
  },
  {
   "cell_type": "code",
   "execution_count": 34,
   "metadata": {},
   "outputs": [
    {
     "data": {
      "text/plain": [
       "<matplotlib.axes._subplots.AxesSubplot at 0x23eaeaf1198>"
      ]
     },
     "execution_count": 34,
     "metadata": {},
     "output_type": "execute_result"
    },
    {
     "data": {
      "image/png": "[encoded data removed]",
      "text/plain": [
       "<Figure size 720x720 with 1 Axes>"
      ]
     },
     "metadata": {
      "needs_background": "light"
     },
     "output_type": "display_data"
    }
   ],
   "source": [
    "plt.figure(figsize=(10,10))\n",
    "sns.barplot(x='weekday',y='SentimentTitle',data=df1)"
   ]
  },
  {
   "cell_type": "code",
   "execution_count": 35,
   "metadata": {},
   "outputs": [
    {
     "data": {
      "text/plain": [
       "<matplotlib.axes._subplots.AxesSubplot at 0x23eb286be48>"
      ]
     },
     "execution_count": 35,
     "metadata": {},
     "output_type": "execute_result"
    },
    {
     "data": {
      "image/png": "[encoded data removed]",
      "text/plain": [
       "<Figure size 720x720 with 1 Axes>"
      ]
     },
     "metadata": {
      "needs_background": "light"
     },
     "output_type": "display_data"
    }
   ],
   "source": [
    "plt.figure(figsize=(10,10))\n",
    "sns.barplot(x='weekday',y='SentimentHeadline',data=df1)"
   ]
  },
  {
   "cell_type": "code",
   "execution_count": 36,
   "metadata": {},
   "outputs": [
    {
     "data": {
      "text/plain": [
       "<matplotlib.axes._subplots.AxesSubplot at 0x23eaeaf1b00>"
      ]
     },
     "execution_count": 36,
     "metadata": {},
     "output_type": "execute_result"
    },
    {
     "data": {
      "image/png": "[encoded data removed]",
      "text/plain": [
       "<Figure size 720x720 with 1 Axes>"
      ]
     },
     "metadata": {
      "needs_background": "light"
     },
     "output_type": "display_data"
    }
   ],
   "source": [
    "plt.figure(figsize=(10,10))\n",
    "sns.barplot(x='hour',y='SentimentTitle',data=df1)"
   ]
  },
  {
   "cell_type": "code",
   "execution_count": 37,
   "metadata": {},
   "outputs": [
    {
     "data": {
      "text/plain": [
       "<matplotlib.axes._subplots.AxesSubplot at 0x23eb2903e48>"
      ]
     },
     "execution_count": 37,
     "metadata": {},
     "output_type": "execute_result"
    },
    {
     "data": {
      "image/png": "[encoded data removed]",
      "text/plain": [
       "<Figure size 720x720 with 1 Axes>"
      ]
     },
     "metadata": {
      "needs_background": "light"
     },
     "output_type": "display_data"
    }
   ],
   "source": [
    "plt.figure(figsize=(10,10))\n",
    "sns.barplot(x='hour',y='SentimentHeadline',data=df1)"
   ]
  },
  {
   "cell_type": "markdown",
   "metadata": {},
   "source": [
    "### Finding number of words,character, unique words nad average length in Title and Head Line"
   ]
  },
  {
   "cell_type": "code",
   "execution_count": 38,
   "metadata": {},
   "outputs": [],
   "source": [
    "df1[\"words_t\"]=df1[\"Text_Title\"].apply(lambda x: len(str(x).split()))\n",
    "df2[\"words_t\"]=df2[\"Text_Title\"].apply(lambda x: len(str(x).split()))\n",
    "df1[\"uwords_t\"]=df1[\"Text_Title\"].apply(lambda x: len(set(str(x).split())))\n",
    "df2[\"uwords_t\"]=df2[\"Text_Title\"].apply(lambda x: len(set(str(x).split())))\n",
    "df1[\"char_t\"]=df1[\"Text_Title\"].apply(lambda x: len(str(x)))\n",
    "df2[\"char_t\"]=df2[\"Text_Title\"].apply(lambda x: len(str(x)))\n",
    "df1[\"m_t\"]=df1[\"Text_Title\"].apply(lambda x: np.mean([len(w) for w in str(x).split()]))\n",
    "df2[\"m_t\"]=df2[\"Text_Title\"].apply(lambda x: np.mean([len(w) for w in str(x).split()]))"
   ]
  },
  {
   "cell_type": "code",
   "execution_count": 39,
   "metadata": {},
   "outputs": [],
   "source": [
    "df1[\"words_h\"]=df1[\"Text_Headline\"].apply(lambda x: len(str(x).split()))\n",
    "df2[\"words_h\"]=df2[\"Text_Headline\"].apply(lambda x: len(str(x).split()))\n",
    "df1[\"uwords_h\"]=df1[\"Text_Headline\"].apply(lambda x: len(set(str(x).split())))\n",
    "df2[\"uwords_h\"]=df2[\"Text_Headline\"].apply(lambda x: len(set(str(x).split())))\n",
    "df1[\"char_h\"]=df1[\"Text_Headline\"].apply(lambda x: len(str(x)))\n",
    "df2[\"char_h\"]=df2[\"Text_Headline\"].apply(lambda x: len(str(x)))\n",
    "df1[\"m_h\"]=df1[\"Text_Headline\"].apply(lambda x: np.mean([len(w) for w in str(x).split()]))\n",
    "df2[\"m_h\"]=df2[\"Text_Headline\"].apply(lambda x: np.mean([len(w) for w in str(x).split()]))"
   ]
  },
  {
   "cell_type": "code",
   "execution_count": 40,
   "metadata": {},
   "outputs": [
    {
     "name": "stderr",
     "output_type": "stream",
     "text": [
      "C:\\Program Files (x86)\\New folder\\lib\\site-packages\\sklearn\\utils\\validation.py:595: DataConversionWarning: Data with input dtype int32 was converted to float64 by StandardScaler.\n",
      "  warnings.warn(msg, DataConversionWarning)\n",
      "C:\\Program Files (x86)\\New folder\\lib\\site-packages\\sklearn\\utils\\validation.py:595: DataConversionWarning: Data with input dtype int32 was converted to float64 by StandardScaler.\n",
      "  warnings.warn(msg, DataConversionWarning)\n",
      "C:\\Program Files (x86)\\New folder\\lib\\site-packages\\sklearn\\utils\\validation.py:595: DataConversionWarning: Data with input dtype int32 was converted to float64 by StandardScaler.\n",
      "  warnings.warn(msg, DataConversionWarning)\n",
      "C:\\Program Files (x86)\\New folder\\lib\\site-packages\\sklearn\\utils\\validation.py:595: DataConversionWarning: Data with input dtype int32 was converted to float64 by StandardScaler.\n",
      "  warnings.warn(msg, DataConversionWarning)\n",
      "C:\\Program Files (x86)\\New folder\\lib\\site-packages\\sklearn\\utils\\validation.py:595: DataConversionWarning: Data with input dtype int32 was converted to float64 by StandardScaler.\n",
      "  warnings.warn(msg, DataConversionWarning)\n",
      "C:\\Program Files (x86)\\New folder\\lib\\site-packages\\sklearn\\utils\\validation.py:595: DataConversionWarning: Data with input dtype int32 was converted to float64 by StandardScaler.\n",
      "  warnings.warn(msg, DataConversionWarning)\n",
      "C:\\Program Files (x86)\\New folder\\lib\\site-packages\\sklearn\\utils\\validation.py:595: DataConversionWarning: Data with input dtype int64 was converted to float64 by StandardScaler.\n",
      "  warnings.warn(msg, DataConversionWarning)\n",
      "C:\\Program Files (x86)\\New folder\\lib\\site-packages\\sklearn\\utils\\validation.py:595: DataConversionWarning: Data with input dtype int64 was converted to float64 by StandardScaler.\n",
      "  warnings.warn(msg, DataConversionWarning)\n",
      "C:\\Program Files (x86)\\New folder\\lib\\site-packages\\sklearn\\utils\\validation.py:595: DataConversionWarning: Data with input dtype int64 was converted to float64 by StandardScaler.\n",
      "  warnings.warn(msg, DataConversionWarning)\n",
      "C:\\Program Files (x86)\\New folder\\lib\\site-packages\\sklearn\\utils\\validation.py:595: DataConversionWarning: Data with input dtype int64 was converted to float64 by StandardScaler.\n",
      "  warnings.warn(msg, DataConversionWarning)\n",
      "C:\\Program Files (x86)\\New folder\\lib\\site-packages\\sklearn\\utils\\validation.py:595: DataConversionWarning: Data with input dtype int64 was converted to float64 by StandardScaler.\n",
      "  warnings.warn(msg, DataConversionWarning)\n",
      "C:\\Program Files (x86)\\New folder\\lib\\site-packages\\sklearn\\utils\\validation.py:595: DataConversionWarning: Data with input dtype int64 was converted to float64 by StandardScaler.\n",
      "  warnings.warn(msg, DataConversionWarning)\n",
      "C:\\Program Files (x86)\\New folder\\lib\\site-packages\\sklearn\\utils\\validation.py:595: DataConversionWarning: Data with input dtype int64 was converted to float64 by StandardScaler.\n",
      "  warnings.warn(msg, DataConversionWarning)\n",
      "C:\\Program Files (x86)\\New folder\\lib\\site-packages\\sklearn\\utils\\validation.py:595: DataConversionWarning: Data with input dtype int64 was converted to float64 by StandardScaler.\n",
      "  warnings.warn(msg, DataConversionWarning)\n",
      "C:\\Program Files (x86)\\New folder\\lib\\site-packages\\sklearn\\utils\\validation.py:595: DataConversionWarning: Data with input dtype int64 was converted to float64 by StandardScaler.\n",
      "  warnings.warn(msg, DataConversionWarning)\n",
      "C:\\Program Files (x86)\\New folder\\lib\\site-packages\\sklearn\\utils\\validation.py:595: DataConversionWarning: Data with input dtype int64 was converted to float64 by StandardScaler.\n",
      "  warnings.warn(msg, DataConversionWarning)\n",
      "C:\\Program Files (x86)\\New folder\\lib\\site-packages\\sklearn\\utils\\validation.py:595: DataConversionWarning: Data with input dtype int64 was converted to float64 by StandardScaler.\n",
      "  warnings.warn(msg, DataConversionWarning)\n",
      "C:\\Program Files (x86)\\New folder\\lib\\site-packages\\sklearn\\utils\\validation.py:595: DataConversionWarning: Data with input dtype int64 was converted to float64 by StandardScaler.\n",
      "  warnings.warn(msg, DataConversionWarning)\n",
      "C:\\Program Files (x86)\\New folder\\lib\\site-packages\\sklearn\\utils\\validation.py:595: DataConversionWarning: Data with input dtype int64 was converted to float64 by StandardScaler.\n",
      "  warnings.warn(msg, DataConversionWarning)\n",
      "C:\\Program Files (x86)\\New folder\\lib\\site-packages\\sklearn\\utils\\validation.py:595: DataConversionWarning: Data with input dtype int64 was converted to float64 by StandardScaler.\n",
      "  warnings.warn(msg, DataConversionWarning)\n",
      "C:\\Program Files (x86)\\New folder\\lib\\site-packages\\sklearn\\utils\\validation.py:595: DataConversionWarning: Data with input dtype int64 was converted to float64 by StandardScaler.\n",
      "  warnings.warn(msg, DataConversionWarning)\n",
      "C:\\Program Files (x86)\\New folder\\lib\\site-packages\\sklearn\\utils\\validation.py:595: DataConversionWarning: Data with input dtype int64 was converted to float64 by StandardScaler.\n",
      "  warnings.warn(msg, DataConversionWarning)\n",
      "C:\\Program Files (x86)\\New folder\\lib\\site-packages\\sklearn\\utils\\validation.py:595: DataConversionWarning: Data with input dtype int64 was converted to float64 by StandardScaler.\n",
      "  warnings.warn(msg, DataConversionWarning)\n",
      "C:\\Program Files (x86)\\New folder\\lib\\site-packages\\sklearn\\utils\\validation.py:595: DataConversionWarning: Data with input dtype int64 was converted to float64 by StandardScaler.\n",
      "  warnings.warn(msg, DataConversionWarning)\n",
      "C:\\Program Files (x86)\\New folder\\lib\\site-packages\\sklearn\\utils\\validation.py:595: DataConversionWarning: Data with input dtype int64 was converted to float64 by StandardScaler.\n",
      "  warnings.warn(msg, DataConversionWarning)\n",
      "C:\\Program Files (x86)\\New folder\\lib\\site-packages\\sklearn\\utils\\validation.py:595: DataConversionWarning: Data with input dtype int64 was converted to float64 by StandardScaler.\n",
      "  warnings.warn(msg, DataConversionWarning)\n",
      "C:\\Program Files (x86)\\New folder\\lib\\site-packages\\sklearn\\utils\\validation.py:595: DataConversionWarning: Data with input dtype int64 was converted to float64 by StandardScaler.\n",
      "  warnings.warn(msg, DataConversionWarning)\n",
      "C:\\Program Files (x86)\\New folder\\lib\\site-packages\\sklearn\\utils\\validation.py:595: DataConversionWarning: Data with input dtype int64 was converted to float64 by StandardScaler.\n",
      "  warnings.warn(msg, DataConversionWarning)\n",
      "C:\\Program Files (x86)\\New folder\\lib\\site-packages\\sklearn\\utils\\validation.py:595: DataConversionWarning: Data with input dtype int64 was converted to float64 by StandardScaler.\n",
      "  warnings.warn(msg, DataConversionWarning)\n",
      "C:\\Program Files (x86)\\New folder\\lib\\site-packages\\sklearn\\utils\\validation.py:595: DataConversionWarning: Data with input dtype int64 was converted to float64 by StandardScaler.\n",
      "  warnings.warn(msg, DataConversionWarning)\n",
      "C:\\Program Files (x86)\\New folder\\lib\\site-packages\\sklearn\\utils\\validation.py:595: DataConversionWarning: Data with input dtype int64 was converted to float64 by StandardScaler.\n",
      "  warnings.warn(msg, DataConversionWarning)\n",
      "C:\\Program Files (x86)\\New folder\\lib\\site-packages\\sklearn\\utils\\validation.py:595: DataConversionWarning: Data with input dtype int64 was converted to float64 by StandardScaler.\n",
      "  warnings.warn(msg, DataConversionWarning)\n",
      "C:\\Program Files (x86)\\New folder\\lib\\site-packages\\sklearn\\utils\\validation.py:595: DataConversionWarning: Data with input dtype int64 was converted to float64 by StandardScaler.\n",
      "  warnings.warn(msg, DataConversionWarning)\n",
      "C:\\Program Files (x86)\\New folder\\lib\\site-packages\\sklearn\\utils\\validation.py:595: DataConversionWarning: Data with input dtype object was converted to float64 by StandardScaler.\n",
      "  warnings.warn(msg, DataConversionWarning)\n",
      "C:\\Program Files (x86)\\New folder\\lib\\site-packages\\sklearn\\utils\\validation.py:595: DataConversionWarning: Data with input dtype object was converted to float64 by StandardScaler.\n",
      "  warnings.warn(msg, DataConversionWarning)\n",
      "C:\\Program Files (x86)\\New folder\\lib\\site-packages\\sklearn\\utils\\validation.py:595: DataConversionWarning: Data with input dtype object was converted to float64 by StandardScaler.\n",
      "  warnings.warn(msg, DataConversionWarning)\n",
      "C:\\Program Files (x86)\\New folder\\lib\\site-packages\\sklearn\\utils\\validation.py:595: DataConversionWarning: Data with input dtype int64 was converted to float64 by StandardScaler.\n",
      "  warnings.warn(msg, DataConversionWarning)\n",
      "C:\\Program Files (x86)\\New folder\\lib\\site-packages\\sklearn\\utils\\validation.py:595: DataConversionWarning: Data with input dtype int64 was converted to float64 by StandardScaler.\n",
      "  warnings.warn(msg, DataConversionWarning)\n",
      "C:\\Program Files (x86)\\New folder\\lib\\site-packages\\sklearn\\utils\\validation.py:595: DataConversionWarning: Data with input dtype int64 was converted to float64 by StandardScaler.\n",
      "  warnings.warn(msg, DataConversionWarning)\n"
     ]
    }
   ],
   "source": [
    "sc=StandardScaler()\n",
    "colm=['Source','Topic','Facebook','GooglePlus','LinkedIn','words_t','uwords_t','char_t','m_t','words_h','uwords_h','char_h','m_h','hour','weekday']\n",
    "for col in colm:\n",
    "  df1[col]=sc.fit_transform(df1[col].values.reshape(-1, 1))\n",
    "  df2[col]=sc.transform(df2[col].values.reshape(-1, 1))"
   ]
  },
  {
   "cell_type": "code",
   "execution_count": 41,
   "metadata": {},
   "outputs": [],
   "source": [
    "colm_t=['Source','Topic','Facebook','GooglePlus','LinkedIn','words_t','uwords_t','char_t','m_t','p_t','sub_t','hour','weekday']\n",
    "df1_1=df1[colm_t]\n",
    "df2_1=df2[colm_t]\n",
    "colm_h=['Source','Topic','Facebook','GooglePlus','LinkedIn','words_h','uwords_h','char_h','m_h','p_h','sub_h','hour','weekday']\n",
    "df1_2=df1[colm_h]\n",
    "df2_2=df2[colm_h]"
   ]
  },
  {
   "cell_type": "code",
   "execution_count": 42,
   "metadata": {},
   "outputs": [
    {
     "data": {
      "text/html": [
       "<div>\n",
       "<style scoped>\n",
       "    .dataframe tbody tr th:only-of-type {\n",
       "        vertical-align: middle;\n",
       "    }\n",
       "\n",
       "    .dataframe tbody tr th {\n",
       "        vertical-align: top;\n",
       "    }\n",
       "\n",
       "    .dataframe thead th {\n",
       "        text-align: right;\n",
       "    }\n",
       "</style>\n",
       "<table border=\"1\" class=\"dataframe\">\n",
       "  <thead>\n",
       "    <tr style=\"text-align: right;\">\n",
       "      <th></th>\n",
       "      <th>Source</th>\n",
       "      <th>Topic</th>\n",
       "      <th>Facebook</th>\n",
       "      <th>GooglePlus</th>\n",
       "      <th>LinkedIn</th>\n",
       "      <th>words_t</th>\n",
       "      <th>uwords_t</th>\n",
       "      <th>char_t</th>\n",
       "      <th>m_t</th>\n",
       "      <th>p_t</th>\n",
       "      <th>sub_t</th>\n",
       "      <th>hour</th>\n",
       "      <th>weekday</th>\n",
       "    </tr>\n",
       "  </thead>\n",
       "  <tbody>\n",
       "    <tr>\n",
       "      <th>0</th>\n",
       "      <td>1.257700</td>\n",
       "      <td>0.841443</td>\n",
       "      <td>-0.184044</td>\n",
       "      <td>-0.262649</td>\n",
       "      <td>-0.199608</td>\n",
       "      <td>-0.259144</td>\n",
       "      <td>-0.304659</td>\n",
       "      <td>-0.572668</td>\n",
       "      <td>-0.612899</td>\n",
       "      <td>0.0</td>\n",
       "      <td>0.0</td>\n",
       "      <td>-1.699073</td>\n",
       "      <td>-0.795924</td>\n",
       "    </tr>\n",
       "    <tr>\n",
       "      <th>1</th>\n",
       "      <td>-1.314091</td>\n",
       "      <td>-1.108773</td>\n",
       "      <td>-0.184044</td>\n",
       "      <td>-0.262649</td>\n",
       "      <td>-0.199608</td>\n",
       "      <td>-1.668699</td>\n",
       "      <td>-1.721681</td>\n",
       "      <td>-1.629548</td>\n",
       "      <td>0.274497</td>\n",
       "      <td>0.0</td>\n",
       "      <td>0.0</td>\n",
       "      <td>-1.699073</td>\n",
       "      <td>1.338369</td>\n",
       "    </tr>\n",
       "    <tr>\n",
       "      <th>2</th>\n",
       "      <td>-1.314091</td>\n",
       "      <td>-1.108773</td>\n",
       "      <td>-0.184044</td>\n",
       "      <td>-0.262649</td>\n",
       "      <td>-0.199608</td>\n",
       "      <td>-1.198848</td>\n",
       "      <td>-1.249340</td>\n",
       "      <td>-1.035053</td>\n",
       "      <td>0.328828</td>\n",
       "      <td>0.0</td>\n",
       "      <td>0.0</td>\n",
       "      <td>-1.699073</td>\n",
       "      <td>1.338369</td>\n",
       "    </tr>\n",
       "    <tr>\n",
       "      <th>3</th>\n",
       "      <td>0.468412</td>\n",
       "      <td>-1.108773</td>\n",
       "      <td>-0.184044</td>\n",
       "      <td>-0.262649</td>\n",
       "      <td>-0.199608</td>\n",
       "      <td>-1.668699</td>\n",
       "      <td>-1.249340</td>\n",
       "      <td>-2.224043</td>\n",
       "      <td>-1.436911</td>\n",
       "      <td>0.0</td>\n",
       "      <td>0.0</td>\n",
       "      <td>-1.699073</td>\n",
       "      <td>1.871942</td>\n",
       "    </tr>\n",
       "    <tr>\n",
       "      <th>4</th>\n",
       "      <td>1.029071</td>\n",
       "      <td>-1.108773</td>\n",
       "      <td>-0.184044</td>\n",
       "      <td>-0.262649</td>\n",
       "      <td>-0.199608</td>\n",
       "      <td>1.150411</td>\n",
       "      <td>1.112364</td>\n",
       "      <td>1.012652</td>\n",
       "      <td>-0.295972</td>\n",
       "      <td>0.0</td>\n",
       "      <td>0.0</td>\n",
       "      <td>-1.699073</td>\n",
       "      <td>1.871942</td>\n",
       "    </tr>\n",
       "  </tbody>\n",
       "</table>\n",
       "</div>"
      ],
      "text/plain": [
       "     Source     Topic  Facebook  GooglePlus  LinkedIn   words_t  uwords_t  \\\n",
       "0  1.257700  0.841443 -0.184044   -0.262649 -0.199608 -0.259144 -0.304659   \n",
       "1 -1.314091 -1.108773 -0.184044   -0.262649 -0.199608 -1.668699 -1.721681   \n",
       "2 -1.314091 -1.108773 -0.184044   -0.262649 -0.199608 -1.198848 -1.249340   \n",
       "3  0.468412 -1.108773 -0.184044   -0.262649 -0.199608 -1.668699 -1.249340   \n",
       "4  1.029071 -1.108773 -0.184044   -0.262649 -0.199608  1.150411  1.112364   \n",
       "\n",
       "     char_t       m_t  p_t  sub_t      hour   weekday  \n",
       "0 -0.572668 -0.612899  0.0    0.0 -1.699073 -0.795924  \n",
       "1 -1.629548  0.274497  0.0    0.0 -1.699073  1.338369  \n",
       "2 -1.035053  0.328828  0.0    0.0 -1.699073  1.338369  \n",
       "3 -2.224043 -1.436911  0.0    0.0 -1.699073  1.871942  \n",
       "4  1.012652 -0.295972  0.0    0.0 -1.699073  1.871942  "
      ]
     },
     "execution_count": 42,
     "metadata": {},
     "output_type": "execute_result"
    }
   ],
   "source": [
    "df1_1.head()"
   ]
  },
  {
   "cell_type": "code",
   "execution_count": 43,
   "metadata": {},
   "outputs": [
    {
     "data": {
      "text/html": [
       "<div>\n",
       "<style scoped>\n",
       "    .dataframe tbody tr th:only-of-type {\n",
       "        vertical-align: middle;\n",
       "    }\n",
       "\n",
       "    .dataframe tbody tr th {\n",
       "        vertical-align: top;\n",
       "    }\n",
       "\n",
       "    .dataframe thead th {\n",
       "        text-align: right;\n",
       "    }\n",
       "</style>\n",
       "<table border=\"1\" class=\"dataframe\">\n",
       "  <thead>\n",
       "    <tr style=\"text-align: right;\">\n",
       "      <th></th>\n",
       "      <th>Source</th>\n",
       "      <th>Topic</th>\n",
       "      <th>Facebook</th>\n",
       "      <th>GooglePlus</th>\n",
       "      <th>LinkedIn</th>\n",
       "      <th>words_h</th>\n",
       "      <th>uwords_h</th>\n",
       "      <th>char_h</th>\n",
       "      <th>m_h</th>\n",
       "      <th>p_h</th>\n",
       "      <th>sub_h</th>\n",
       "      <th>hour</th>\n",
       "      <th>weekday</th>\n",
       "    </tr>\n",
       "  </thead>\n",
       "  <tbody>\n",
       "    <tr>\n",
       "      <th>0</th>\n",
       "      <td>1.257700</td>\n",
       "      <td>0.841443</td>\n",
       "      <td>-0.184044</td>\n",
       "      <td>-0.262649</td>\n",
       "      <td>-0.199608</td>\n",
       "      <td>-0.285943</td>\n",
       "      <td>-0.526753</td>\n",
       "      <td>-0.490533</td>\n",
       "      <td>-1.058531</td>\n",
       "      <td>0.000000</td>\n",
       "      <td>0.000000</td>\n",
       "      <td>-1.699073</td>\n",
       "      <td>-0.795924</td>\n",
       "    </tr>\n",
       "    <tr>\n",
       "      <th>1</th>\n",
       "      <td>-1.314091</td>\n",
       "      <td>-1.108773</td>\n",
       "      <td>-0.184044</td>\n",
       "      <td>-0.262649</td>\n",
       "      <td>-0.199608</td>\n",
       "      <td>-0.285943</td>\n",
       "      <td>-0.232503</td>\n",
       "      <td>-0.317671</td>\n",
       "      <td>-0.175891</td>\n",
       "      <td>0.100000</td>\n",
       "      <td>0.200000</td>\n",
       "      <td>-1.699073</td>\n",
       "      <td>1.338369</td>\n",
       "    </tr>\n",
       "    <tr>\n",
       "      <th>2</th>\n",
       "      <td>-1.314091</td>\n",
       "      <td>-1.108773</td>\n",
       "      <td>-0.184044</td>\n",
       "      <td>-0.262649</td>\n",
       "      <td>-0.199608</td>\n",
       "      <td>-0.413305</td>\n",
       "      <td>-0.673878</td>\n",
       "      <td>-0.300385</td>\n",
       "      <td>0.618485</td>\n",
       "      <td>0.000000</td>\n",
       "      <td>0.041667</td>\n",
       "      <td>-1.699073</td>\n",
       "      <td>1.338369</td>\n",
       "    </tr>\n",
       "    <tr>\n",
       "      <th>3</th>\n",
       "      <td>0.468412</td>\n",
       "      <td>-1.108773</td>\n",
       "      <td>-0.184044</td>\n",
       "      <td>-0.262649</td>\n",
       "      <td>-0.199608</td>\n",
       "      <td>0.096143</td>\n",
       "      <td>0.061747</td>\n",
       "      <td>0.304632</td>\n",
       "      <td>0.843558</td>\n",
       "      <td>-0.166667</td>\n",
       "      <td>0.166667</td>\n",
       "      <td>-1.699073</td>\n",
       "      <td>1.871942</td>\n",
       "    </tr>\n",
       "    <tr>\n",
       "      <th>4</th>\n",
       "      <td>1.029071</td>\n",
       "      <td>-1.108773</td>\n",
       "      <td>-0.184044</td>\n",
       "      <td>-0.262649</td>\n",
       "      <td>-0.199608</td>\n",
       "      <td>0.223505</td>\n",
       "      <td>0.208872</td>\n",
       "      <td>0.391063</td>\n",
       "      <td>0.618485</td>\n",
       "      <td>0.133333</td>\n",
       "      <td>0.380556</td>\n",
       "      <td>-1.699073</td>\n",
       "      <td>1.871942</td>\n",
       "    </tr>\n",
       "  </tbody>\n",
       "</table>\n",
       "</div>"
      ],
      "text/plain": [
       "     Source     Topic  Facebook  GooglePlus  LinkedIn   words_h  uwords_h  \\\n",
       "0  1.257700  0.841443 -0.184044   -0.262649 -0.199608 -0.285943 -0.526753   \n",
       "1 -1.314091 -1.108773 -0.184044   -0.262649 -0.199608 -0.285943 -0.232503   \n",
       "2 -1.314091 -1.108773 -0.184044   -0.262649 -0.199608 -0.413305 -0.673878   \n",
       "3  0.468412 -1.108773 -0.184044   -0.262649 -0.199608  0.096143  0.061747   \n",
       "4  1.029071 -1.108773 -0.184044   -0.262649 -0.199608  0.223505  0.208872   \n",
       "\n",
       "     char_h       m_h       p_h     sub_h      hour   weekday  \n",
       "0 -0.490533 -1.058531  0.000000  0.000000 -1.699073 -0.795924  \n",
       "1 -0.317671 -0.175891  0.100000  0.200000 -1.699073  1.338369  \n",
       "2 -0.300385  0.618485  0.000000  0.041667 -1.699073  1.338369  \n",
       "3  0.304632  0.843558 -0.166667  0.166667 -1.699073  1.871942  \n",
       "4  0.391063  0.618485  0.133333  0.380556 -1.699073  1.871942  "
      ]
     },
     "execution_count": 43,
     "metadata": {},
     "output_type": "execute_result"
    }
   ],
   "source": [
    "df1_2.head()"
   ]
  },
  {
   "cell_type": "code",
   "execution_count": 44,
   "metadata": {},
   "outputs": [],
   "source": [
    "df1_X_Title=hstack([df1_v_Title,csr_matrix(df1_1.values)])\n",
    "df2_X_Title=hstack([df2_v_Title,csr_matrix(df2_1.values)])\n",
    "y1 = df1['SentimentTitle']\n",
    "df1_X_Headline=hstack([df1_v_Headline,csr_matrix(df1_2.values)])\n",
    "df2_X_Headline=hstack([df2_v_Headline,csr_matrix(df2_2.values)])\n",
    "y2 = df1['SentimentHeadline']"
   ]
  },
  {
   "cell_type": "markdown",
   "metadata": {},
   "source": [
    "<a id=6></p><br>\n",
    "# Training the model"
   ]
  },
  {
   "cell_type": "code",
   "execution_count": 45,
   "metadata": {},
   "outputs": [
    {
     "name": "stdout",
     "output_type": "stream",
     "text": [
      "Mean Absolute Error= 0.9053170082120422\n"
     ]
    },
    {
     "name": "stderr",
     "output_type": "stream",
     "text": [
      "C:\\Program Files (x86)\\New folder\\lib\\site-packages\\sklearn\\svm\\base.py:931: ConvergenceWarning: Liblinear failed to converge, increase the number of iterations.\n",
      "  \"the number of iterations.\", ConvergenceWarning)\n"
     ]
    }
   ],
   "source": [
    "X_train,X_test,y_train,y_test=train_test_split(df1_X_Title,y1,test_size=0.20,random_state=42)\n",
    "clf1=LinearSVR(C=0.2)\n",
    "clf1.fit(X_train,y_train)\n",
    "y_pred1=clf1.predict(X_test)\n",
    "mae1=mean_absolute_error(y_pred1,y_test)\n",
    "print('Mean Absolute Error=',1-mae1)"
   ]
  },
  {
   "cell_type": "code",
   "execution_count": 46,
   "metadata": {},
   "outputs": [
    {
     "name": "stdout",
     "output_type": "stream",
     "text": [
      "Mean Absolute Error= 0.8945194465456827\n"
     ]
    },
    {
     "name": "stderr",
     "output_type": "stream",
     "text": [
      "C:\\Program Files (x86)\\New folder\\lib\\site-packages\\sklearn\\svm\\base.py:931: ConvergenceWarning: Liblinear failed to converge, increase the number of iterations.\n",
      "  \"the number of iterations.\", ConvergenceWarning)\n"
     ]
    }
   ],
   "source": [
    "X_train,X_test,y_train,y_test=train_test_split(df1_X_Headline,y2,test_size=0.20,random_state=42)\n",
    "clf2=LinearSVR(C=0.1)\n",
    "clf2.fit(X_train,y_train)\n",
    "y_pred2=clf2.predict(X_test)\n",
    "mae2=mean_absolute_error(y_pred2,y_test)\n",
    "print('Mean Absolute Error=',1-mae2)"
   ]
  },
  {
   "cell_type": "code",
   "execution_count": 47,
   "metadata": {},
   "outputs": [
    {
     "name": "stdout",
     "output_type": "stream",
     "text": [
      "Mean Absolute Error= 0.8988384712122265\n"
     ]
    }
   ],
   "source": [
    "print('Mean Absolute Error=',1-((0.4*mae1)+(0.6*mae2)))"
   ]
  },
  {
   "cell_type": "markdown",
   "metadata": {},
   "source": [
    "<a id=7></p><br>\n",
    "# Prediction"
   ]
  },
  {
   "cell_type": "code",
   "execution_count": 48,
   "metadata": {},
   "outputs": [],
   "source": [
    "title=clf1.predict(df2_X_Title)\n",
    "headline=clf2.predict(df2_X_Headline)"
   ]
  },
  {
   "cell_type": "code",
   "execution_count": 49,
   "metadata": {},
   "outputs": [],
   "source": [
    "df = pd.DataFrame()\n",
    "df['IDLink'] = t_id\n",
    "df['SentimentTitle']=title\n",
    "df['SentimentHeadline']=headline\n",
    "df.to_csv('Final_Submission.csv')"
   ]
  },
  {
   "cell_type": "code",
   "execution_count": null,
   "metadata": {},
   "outputs": [],
   "source": []
  }
 ],
 "metadata": {
  "kernelspec": {
   "display_name": "Python 3",
   "language": "python",
   "name": "python3"
  },
  "language_info": {
   "codemirror_mode": {
    "name": "ipython",
    "version": 3
   },
   "file_extension": ".py",
   "mimetype": "text/x-python",
   "name": "python",
   "nbconvert_exporter": "python",
   "pygments_lexer": "ipython3",
   "version": "3.7.3"
  }
 },
 "nbformat": 4,
 "nbformat_minor": 2
}
